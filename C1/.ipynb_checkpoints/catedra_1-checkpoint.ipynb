{
 "cells": [
  {
   "cell_type": "code",
   "execution_count": 1,
   "id": "789ab3c1",
   "metadata": {},
   "outputs": [],
   "source": [
    "import csv\n",
    "import os\n",
    "import numpy as np\n",
    "from scipy import stats\n",
    "import pandas as pd\n",
    "import matplotlib.pyplot as plt"
   ]
  },
  {
   "cell_type": "markdown",
   "id": "679cfdb3",
   "metadata": {},
   "source": [
    "#### Con este comando, nosotros ingresamos de manera general a los datos dentro de la carpeta"
   ]
  },
  {
   "cell_type": "code",
   "execution_count": null,
   "id": "c2159763",
   "metadata": {},
   "outputs": [],
   "source": [
    "files= os.listdir(\"data/raw_tac\")"
   ]
  },
  {
   "cell_type": "markdown",
   "id": "af7fc9b7",
   "metadata": {},
   "source": [
    "#### Observamos la cantidad de archivos dentro de la carpeta con sus respectivos nombres"
   ]
  },
  {
   "cell_type": "code",
   "execution_count": 3,
   "id": "0cfea021",
   "metadata": {},
   "outputs": [
    {
     "data": {
      "text/plain": [
       "['BK7610 CAM Results.xlsx',\n",
       " 'BU4707 CAM results.xlsx',\n",
       " 'CC6740 CAM Results.xlsx',\n",
       " 'DC6359 CAM Results.xlsx',\n",
       " 'DK3500 CAM Results.xlsx',\n",
       " 'HV0618 CAM Results.xlsx',\n",
       " 'JB3156 CAM Results.xlsx',\n",
       " 'JR8022 CAM results.xlsx',\n",
       " 'MC7070 CAM Results.xlsx',\n",
       " 'MJ8002 CAM Results.xlsx',\n",
       " 'PC6771 CAM Results.xlsx',\n",
       " 'SA0297 CAM Results.xlsx',\n",
       " 'SF3079 CAM Results.xlsx']"
      ]
     },
     "execution_count": 3,
     "metadata": {},
     "output_type": "execute_result"
    }
   ],
   "source": [
    "files"
   ]
  },
  {
   "cell_type": "markdown",
   "id": "7109aaaa",
   "metadata": {},
   "source": [
    "#### Con este comando elegimos los archivos para usarse al mismo tiempo dentro del jupyter"
   ]
  },
  {
   "cell_type": "code",
   "execution_count": 4,
   "id": "45adbca6",
   "metadata": {},
   "outputs": [
    {
     "data": {
      "text/plain": [
       "['BK7610 CAM Results.xlsx',\n",
       " 'BU4707 CAM results.xlsx',\n",
       " 'CC6740 CAM Results.xlsx',\n",
       " 'DC6359 CAM Results.xlsx',\n",
       " 'DK3500 CAM Results.xlsx',\n",
       " 'HV0618 CAM Results.xlsx',\n",
       " 'JB3156 CAM Results.xlsx',\n",
       " 'JR8022 CAM results.xlsx',\n",
       " 'MC7070 CAM Results.xlsx',\n",
       " 'MJ8002 CAM Results.xlsx',\n",
       " 'PC6771 CAM Results.xlsx',\n",
       " 'SA0297 CAM Results.xlsx',\n",
       " 'SF3079 CAM Results.xlsx']"
      ]
     },
     "execution_count": 4,
     "metadata": {},
     "output_type": "execute_result"
    }
   ],
   "source": [
    "files_xlsx = [f for f in files if f[-4:] == 'xlsx']\n",
    "files_xlsx"
   ]
  },
  {
   "cell_type": "markdown",
   "id": "9081bb49",
   "metadata": {},
   "source": [
    "#### Se ordena los datos a estudiar y se juntan para facilitar la tarea de calcular los datos estadisticos"
   ]
  },
  {
   "cell_type": "code",
   "execution_count": 5,
   "id": "a220d6e5",
   "metadata": {},
   "outputs": [
    {
     "data": {
      "text/html": [
       "<div>\n",
       "<style scoped>\n",
       "    .dataframe tbody tr th:only-of-type {\n",
       "        vertical-align: middle;\n",
       "    }\n",
       "\n",
       "    .dataframe tbody tr th {\n",
       "        vertical-align: top;\n",
       "    }\n",
       "\n",
       "    .dataframe thead th {\n",
       "        text-align: right;\n",
       "    }\n",
       "</style>\n",
       "<table border=\"1\" class=\"dataframe\">\n",
       "  <thead>\n",
       "    <tr style=\"text-align: right;\">\n",
       "      <th></th>\n",
       "      <th>TAC Level</th>\n",
       "      <th>IR Voltage</th>\n",
       "      <th>Temperature</th>\n",
       "      <th>Time</th>\n",
       "      <th>Date</th>\n",
       "      <th>pid</th>\n",
       "    </tr>\n",
       "  </thead>\n",
       "  <tbody>\n",
       "    <tr>\n",
       "      <th>0</th>\n",
       "      <td>0.000</td>\n",
       "      <td>1.127</td>\n",
       "      <td>74.955</td>\n",
       "      <td>2017-05-02 10:36:54</td>\n",
       "      <td>2017-05-02 10:36:54</td>\n",
       "      <td>BK7610</td>\n",
       "    </tr>\n",
       "    <tr>\n",
       "      <th>1</th>\n",
       "      <td>0.000</td>\n",
       "      <td>1.121</td>\n",
       "      <td>74.955</td>\n",
       "      <td>2017-05-02 11:09:57</td>\n",
       "      <td>2017-05-02 11:09:57</td>\n",
       "      <td>BK7610</td>\n",
       "    </tr>\n",
       "    <tr>\n",
       "      <th>2</th>\n",
       "      <td>0.000</td>\n",
       "      <td>1.069</td>\n",
       "      <td>76.627</td>\n",
       "      <td>2017-05-02 11:15:27</td>\n",
       "      <td>2017-05-02 11:15:27</td>\n",
       "      <td>BK7610</td>\n",
       "    </tr>\n",
       "    <tr>\n",
       "      <th>3</th>\n",
       "      <td>0.000</td>\n",
       "      <td>1.060</td>\n",
       "      <td>77.371</td>\n",
       "      <td>2017-05-02 11:20:57</td>\n",
       "      <td>2017-05-02 11:20:57</td>\n",
       "      <td>BK7610</td>\n",
       "    </tr>\n",
       "    <tr>\n",
       "      <th>4</th>\n",
       "      <td>0.000</td>\n",
       "      <td>1.108</td>\n",
       "      <td>77.929</td>\n",
       "      <td>2017-05-02 11:26:26</td>\n",
       "      <td>2017-05-02 11:26:26</td>\n",
       "      <td>BK7610</td>\n",
       "    </tr>\n",
       "    <tr>\n",
       "      <th>...</th>\n",
       "      <td>...</td>\n",
       "      <td>...</td>\n",
       "      <td>...</td>\n",
       "      <td>...</td>\n",
       "      <td>...</td>\n",
       "      <td>...</td>\n",
       "    </tr>\n",
       "    <tr>\n",
       "      <th>49</th>\n",
       "      <td>0.022</td>\n",
       "      <td>1.056</td>\n",
       "      <td>93.319</td>\n",
       "      <td>2017-05-03 08:37:54</td>\n",
       "      <td>2017-05-03 08:37:54</td>\n",
       "      <td>SF3079</td>\n",
       "    </tr>\n",
       "    <tr>\n",
       "      <th>50</th>\n",
       "      <td>0.020</td>\n",
       "      <td>1.056</td>\n",
       "      <td>92.390</td>\n",
       "      <td>2017-05-03 09:08:40</td>\n",
       "      <td>2017-05-03 09:08:40</td>\n",
       "      <td>SF3079</td>\n",
       "    </tr>\n",
       "    <tr>\n",
       "      <th>51</th>\n",
       "      <td>0.008</td>\n",
       "      <td>1.193</td>\n",
       "      <td>92.390</td>\n",
       "      <td>2017-05-03 09:39:12</td>\n",
       "      <td>2017-05-03 09:39:12</td>\n",
       "      <td>SF3079</td>\n",
       "    </tr>\n",
       "    <tr>\n",
       "      <th>52</th>\n",
       "      <td>0.006</td>\n",
       "      <td>1.056</td>\n",
       "      <td>89.229</td>\n",
       "      <td>2017-05-03 10:09:41</td>\n",
       "      <td>2017-05-03 10:09:41</td>\n",
       "      <td>SF3079</td>\n",
       "    </tr>\n",
       "    <tr>\n",
       "      <th>53</th>\n",
       "      <td>0.000</td>\n",
       "      <td>1.056</td>\n",
       "      <td>76.590</td>\n",
       "      <td>2017-05-03 10:40:10</td>\n",
       "      <td>2017-05-03 10:40:10</td>\n",
       "      <td>SF3079</td>\n",
       "    </tr>\n",
       "  </tbody>\n",
       "</table>\n",
       "<p>713 rows × 6 columns</p>\n",
       "</div>"
      ],
      "text/plain": [
       "    TAC Level  IR Voltage  Temperature                Time  \\\n",
       "0       0.000       1.127       74.955 2017-05-02 10:36:54   \n",
       "1       0.000       1.121       74.955 2017-05-02 11:09:57   \n",
       "2       0.000       1.069       76.627 2017-05-02 11:15:27   \n",
       "3       0.000       1.060       77.371 2017-05-02 11:20:57   \n",
       "4       0.000       1.108       77.929 2017-05-02 11:26:26   \n",
       "..        ...         ...          ...                 ...   \n",
       "49      0.022       1.056       93.319 2017-05-03 08:37:54   \n",
       "50      0.020       1.056       92.390 2017-05-03 09:08:40   \n",
       "51      0.008       1.193       92.390 2017-05-03 09:39:12   \n",
       "52      0.006       1.056       89.229 2017-05-03 10:09:41   \n",
       "53      0.000       1.056       76.590 2017-05-03 10:40:10   \n",
       "\n",
       "                  Date     pid  \n",
       "0  2017-05-02 10:36:54  BK7610  \n",
       "1  2017-05-02 11:09:57  BK7610  \n",
       "2  2017-05-02 11:15:27  BK7610  \n",
       "3  2017-05-02 11:20:57  BK7610  \n",
       "4  2017-05-02 11:26:26  BK7610  \n",
       "..                 ...     ...  \n",
       "49 2017-05-03 08:37:54  SF3079  \n",
       "50 2017-05-03 09:08:40  SF3079  \n",
       "51 2017-05-03 09:39:12  SF3079  \n",
       "52 2017-05-03 10:09:41  SF3079  \n",
       "53 2017-05-03 10:40:10  SF3079  \n",
       "\n",
       "[713 rows x 6 columns]"
      ]
     },
     "execution_count": 5,
     "metadata": {},
     "output_type": "execute_result"
    }
   ],
   "source": [
    "raw_tacs=pd.DataFrame()\n",
    "for f in files_xlsx:\n",
    "    data = pd.read_excel('data/raw_tac/'+f, 'Client Report', usecols='A,D,I,L,P', skiprows=[0])\n",
    "    fid= f.split()[0]\n",
    "    data['pid']=fid \n",
    "    raw_tacs = raw_tacs.append(data)\n",
    "raw_tacs"
   ]
  },
  {
   "cell_type": "markdown",
   "id": "d5a31ae3",
   "metadata": {},
   "source": [
    "#### Se saca el promedio general del apartado \"TAC Level\" que es de lo que va la investigación a estudiar"
   ]
  },
  {
   "cell_type": "code",
   "execution_count": 6,
   "id": "a5650c2f",
   "metadata": {},
   "outputs": [
    {
     "data": {
      "text/plain": [
       "0.04622580645161293"
      ]
     },
     "execution_count": 6,
     "metadata": {},
     "output_type": "execute_result"
    }
   ],
   "source": [
    "promedio=sum(raw_tacs['TAC Level'])/len(raw_tacs['TAC Level'])\n",
    "promedio"
   ]
  },
  {
   "cell_type": "markdown",
   "id": "b1deaed2",
   "metadata": {},
   "source": [
    "#### Se calcula la mediana de \"TAC Level\""
   ]
  },
  {
   "cell_type": "code",
   "execution_count": 7,
   "id": "868a1f2f",
   "metadata": {},
   "outputs": [
    {
     "data": {
      "text/plain": [
       "0.04622580645161293"
      ]
     },
     "execution_count": 7,
     "metadata": {},
     "output_type": "execute_result"
    }
   ],
   "source": [
    "np.mean(raw_tacs['TAC Level'])"
   ]
  },
  {
   "cell_type": "markdown",
   "id": "f77b4dc3",
   "metadata": {},
   "source": [
    "#### Se observa la moda de \"TAC Level\""
   ]
  },
  {
   "cell_type": "code",
   "execution_count": 8,
   "id": "a4523be2",
   "metadata": {},
   "outputs": [
    {
     "data": {
      "text/plain": [
       "ModeResult(mode=array([0.]), count=array([235]))"
      ]
     },
     "execution_count": 8,
     "metadata": {},
     "output_type": "execute_result"
    }
   ],
   "source": [
    "stats.mode(raw_tacs['TAC Level'])"
   ]
  },
  {
   "cell_type": "markdown",
   "id": "abc73330",
   "metadata": {},
   "source": [
    "#### Se ven los cuartiles de cada uno de los apartados"
   ]
  },
  {
   "cell_type": "code",
   "execution_count": 9,
   "id": "2db19577",
   "metadata": {},
   "outputs": [
    {
     "data": {
      "text/plain": [
       "TAC Level       0.016\n",
       "IR Voltage      1.052\n",
       "Temperature    82.429\n",
       "Name: 0.5, dtype: float64"
      ]
     },
     "execution_count": 9,
     "metadata": {},
     "output_type": "execute_result"
    }
   ],
   "source": [
    "raw_tacs.quantile()"
   ]
  },
  {
   "cell_type": "markdown",
   "id": "3e041e98",
   "metadata": {},
   "source": [
    "#### Se calcula el percenti al 50% de \"TAC Level\""
   ]
  },
  {
   "cell_type": "code",
   "execution_count": 10,
   "id": "ce1c287c",
   "metadata": {},
   "outputs": [
    {
     "data": {
      "text/plain": [
       "0.016"
      ]
     },
     "execution_count": 10,
     "metadata": {},
     "output_type": "execute_result"
    }
   ],
   "source": [
    "np.percentile(raw_tacs['TAC Level'],50)"
   ]
  },
  {
   "cell_type": "markdown",
   "id": "344d58a9",
   "metadata": {},
   "source": [
    "#### Se calcula la varianza de \"TAC Level\""
   ]
  },
  {
   "cell_type": "code",
   "execution_count": 11,
   "id": "a6a46ca2",
   "metadata": {},
   "outputs": [
    {
     "data": {
      "text/plain": [
       "0.00432649459349408"
      ]
     },
     "execution_count": 11,
     "metadata": {},
     "output_type": "execute_result"
    }
   ],
   "source": [
    "np.var(raw_tacs['TAC Level'])"
   ]
  },
  {
   "cell_type": "markdown",
   "id": "f5411a6f",
   "metadata": {},
   "source": [
    "#### Se calcula la Desviación estándar de \"TAC Level\""
   ]
  },
  {
   "cell_type": "code",
   "execution_count": 12,
   "id": "85d936f0",
   "metadata": {},
   "outputs": [
    {
     "data": {
      "text/plain": [
       "0.06577609439221882"
      ]
     },
     "execution_count": 12,
     "metadata": {},
     "output_type": "execute_result"
    }
   ],
   "source": [
    "np.std(raw_tacs['TAC Level'])"
   ]
  },
  {
   "cell_type": "markdown",
   "id": "53307eee",
   "metadata": {},
   "source": [
    "#### Se hace la visualización de un grafico de barras del TAC de cada participante de la investigación"
   ]
  },
  {
   "cell_type": "code",
   "execution_count": 16,
   "id": "eeb9a861",
   "metadata": {},
   "outputs": [
    {
     "data": {
      "text/plain": [
       "<AxesSubplot:title={'center':'TAC Level'}, xlabel='Personas', ylabel='Cantidad de alcohol'>"
      ]
     },
     "execution_count": 16,
     "metadata": {},
     "output_type": "execute_result"
    },
    {
     "data": {
      "image/png": "[encoded data removed]",
      "text/plain": [
       "<Figure size 2160x1080 with 1 Axes>"
      ]
     },
     "metadata": {
      "needs_background": "light"
     },
     "output_type": "display_data"
    }
   ],
   "source": [
    "raw_tacs['TAC Level'].plot.bar(figsize=(30,15), title='TAC Level', ylabel='Cantidad de alcohol', xlabel='Personas')"
   ]
  },
  {
   "cell_type": "markdown",
   "id": "20f7af0e",
   "metadata": {},
   "source": [
    "#### Se hace la visualización de un histograma del TAC la investigación"
   ]
  },
  {
   "cell_type": "code",
   "execution_count": 18,
   "id": "335d6507",
   "metadata": {},
   "outputs": [
    {
     "data": {
      "text/plain": [
       "<AxesSubplot:title={'center':'TAC Level'}, ylabel='Frequency'>"
      ]
     },
     "execution_count": 18,
     "metadata": {},
     "output_type": "execute_result"
    },
    {
     "data": {
      "image/png": "[encoded data removed]",
      "text/plain": [
       "<Figure size 2160x1080 with 1 Axes>"
      ]
     },
     "metadata": {
      "needs_background": "light"
     },
     "output_type": "display_data"
    }
   ],
   "source": [
    "raw_tacs['TAC Level'].plot.hist(figsize=(30,15), title='TAC Level', ylabel='Cantidad de alcohol', xlabel='Personas')"
   ]
  },
  {
   "cell_type": "markdown",
   "id": "e400a68d",
   "metadata": {},
   "source": [
    "#### Se observan el tipo de variable del dataframe a investigar"
   ]
  },
  {
   "cell_type": "code",
   "execution_count": 20,
   "id": "8e74d593",
   "metadata": {},
   "outputs": [
    {
     "data": {
      "text/plain": [
       "TAC Level             float64\n",
       "IR Voltage            float64\n",
       "Temperature           float64\n",
       "Time           datetime64[ns]\n",
       "Date           datetime64[ns]\n",
       "pid                    object\n",
       "dtype: object"
      ]
     },
     "execution_count": 20,
     "metadata": {},
     "output_type": "execute_result"
    }
   ],
   "source": [
    "raw_tacs.dtypes"
   ]
  },
  {
   "cell_type": "code",
   "execution_count": null,
   "id": "4e57246f",
   "metadata": {},
   "outputs": [],
   "source": []
  }
 ],
 "metadata": {
  "kernelspec": {
   "display_name": "Python 3",
   "language": "python",
   "name": "python3"
  },
  "language_info": {
   "codemirror_mode": {
    "name": "ipython",
    "version": 3
   },
   "file_extension": ".py",
   "mimetype": "text/x-python",
   "name": "python",
   "nbconvert_exporter": "python",
   "pygments_lexer": "ipython3",
   "version": "3.8.8"
  }
 },
 "nbformat": 4,
 "nbformat_minor": 5
}
